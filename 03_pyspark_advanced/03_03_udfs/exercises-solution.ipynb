{
 "cells": [
  {
   "cell_type": "code",
   "execution_count": null,
   "metadata": {},
   "outputs": [],
   "source": [
    "import numpy as np\n",
    "import pandas as pd\n",
    "\n",
    "import pyspark.sql.functions as f\n",
    "from pyspark.sql.types import StringType, IntegerType, DoubleType, FloatType, MapType, LongType\n",
    "\n",
    "from sklearn.linear_model import LinearRegression"
   ]
  },
  {
   "cell_type": "code",
   "execution_count": null,
   "metadata": {},
   "outputs": [],
   "source": [
    "%sh \n",
    "\n",
    "wget https://raw.githubusercontent.com/inesmcm26/lp-big-data-mercedes/main/data/spotify.json"
   ]
  },
  {
   "cell_type": "code",
   "execution_count": null,
   "metadata": {},
   "outputs": [],
   "source": [
    "df_spotify = spark.createDataFrame(pd.read_json('file:/databricks/driver/spotify.json'))"
   ]
  },
  {
   "cell_type": "code",
   "execution_count": null,
   "metadata": {},
   "outputs": [],
   "source": [
    "df_spotify.printSchema()"
   ]
  },
  {
   "cell_type": "markdown",
   "metadata": {},
   "source": [
    "1. What is the average number of tracks amongst all the playlists?\n",
    "\n",
    "Use PySpark built-in functions to answer the question."
   ]
  },
  {
   "cell_type": "code",
   "execution_count": null,
   "metadata": {},
   "outputs": [],
   "source": [
    "(\n",
    "  df_spotify\n",
    "  .withColumn('nr_tracks', f.size('tracks'))\n",
    "  .select(\n",
    "    f.avg('nr_tracks')\n",
    "  )\n",
    ").display()"
   ]
  },
  {
   "cell_type": "markdown",
   "metadata": {},
   "source": [
    "2. What is the average duration of a track in milliseconds in each playlist?\n",
    "\n",
    "Answer using\n",
    "- PySpark built-in functions\n",
    "- UDF"
   ]
  },
  {
   "cell_type": "code",
   "execution_count": null,
   "metadata": {},
   "outputs": [],
   "source": [
    "(\n",
    "    df_spotify\n",
    "    .select(\n",
    "        'playlist_id',\n",
    "        f.inline('tracks')\n",
    "    )\n",
    "    .groupBy('playlist_id')\n",
    "    .agg(f.avg('duration_ms').alias('avg_duration'))\n",
    ").display()"
   ]
  },
  {
   "cell_type": "code",
   "execution_count": null,
   "metadata": {},
   "outputs": [],
   "source": [
    "# Using udfs\n",
    "\n",
    "def avg_duration(tracks):\n",
    "    if len(tracks) == 0:\n",
    "        return 0.0\n",
    "    total_duration = sum([track['duration_ms'] for track in tracks])\n",
    "    return total_duration / len(tracks)\n",
    "\n",
    "avg_duration_udf = f.udf(avg_duration, DoubleType())\n",
    "\n",
    "(\n",
    "    df_spotify\n",
    "    .select(\n",
    "        'playlist_id',\n",
    "        avg_duration_udf(f.col('tracks')).alias('avg_track_duration')\n",
    "    )\n",
    ").display()"
   ]
  },
  {
   "cell_type": "markdown",
   "metadata": {},
   "source": [
    "3. Which playlist has the highest number of unique artists?\n",
    "\n",
    "Answer using\n",
    "- PySpark built-in functions\n",
    "- UDFs"
   ]
  },
  {
   "cell_type": "code",
   "execution_count": null,
   "metadata": {},
   "outputs": [],
   "source": [
    "# Using pyspark built-in functions\n",
    "\n",
    "(\n",
    "    df_spotify\n",
    "    .withColumn('artists_uri', f.transform('tracks', lambda x: x.getField('artist_uri')))\n",
    "    .withColumn('nr_unique_artists', f.size(f.array_distinct('artists_uri')))\n",
    "    .orderBy(f.desc('nr_unique_artists'))\n",
    "    .select(\n",
    "        'playlist_id',\n",
    "        'nr_unique_artists'\n",
    "    )\n",
    "    .limit(1)\n",
    ").display()"
   ]
  },
  {
   "cell_type": "code",
   "execution_count": null,
   "metadata": {},
   "outputs": [],
   "source": [
    "# Using udfs\n",
    "def nr_unique_artists(tracks):\n",
    "  return len(set([track['artist_uri'] for track in tracks]))\n",
    "\n",
    "nr_unique_artists_udf = f.udf(nr_unique_artists, IntegerType())\n",
    "\n",
    "(\n",
    "  df_spotify\n",
    "  .withColumn('nr_unique_artists', nr_unique_artists_udf(f.col('tracks')))\n",
    "  .orderBy(f.desc('nr_unique_artists'))\n",
    "    .select(\n",
    "        'playlist_id',\n",
    "        'nr_unique_artists'\n",
    "    )\n",
    "    .limit(1)\n",
    ").display()"
   ]
  },
  {
   "cell_type": "markdown",
   "metadata": {},
   "source": [
    "4. What is the total duration of all tracks by each unique artist in each playlist?\n",
    "\n",
    "Create a new column `total_duration_per_artist` of the type `MapType(StringType(), IntegerType())` that maps each artist URI to the total duration of tracks by that artist.\n",
    "\n",
    "Answer using UDFs"
   ]
  },
  {
   "cell_type": "code",
   "execution_count": null,
   "metadata": {},
   "outputs": [],
   "source": [
    "def map_artist_duration(tracks):\n",
    "    artists_duration = {}\n",
    "    for track in tracks:\n",
    "        artist_uri = track['artist_uri']\n",
    "        if artist_uri not in artists_duration:\n",
    "            artists_duration[artist_uri] = 0\n",
    "        artists_duration[artist_uri] += track['duration_ms']\n",
    "    \n",
    "    return artists_duration\n",
    "\n",
    "map_artist_duration_udf = f.udf(map_artist_duration, MapType(StringType(), LongType()))\n",
    "\n",
    "(\n",
    "    df_spotify\n",
    "    .withColumn('total_duration_per_artist', map_artist_duration_udf(f.col('tracks')))\n",
    ").display()"
   ]
  },
  {
   "cell_type": "markdown",
   "metadata": {},
   "source": [
    "**(Optional for later) Extra exercises about Pandas UDFs:**"
   ]
  },
  {
   "cell_type": "markdown",
   "metadata": {},
   "source": [
    "5. Repeat question 4 but answer using Pandas UDFs"
   ]
  },
  {
   "cell_type": "code",
   "execution_count": null,
   "metadata": {},
   "outputs": [],
   "source": [
    "@f.pandas_udf(MapType(StringType(), LongType()))\n",
    "def total_duration_per_artist_udf(tracks: pd.Series) -> pd.Series:\n",
    "    result = {}\n",
    "    \n",
    "    for track_list in tracks:\n",
    "        artist_durations = {}\n",
    "        \n",
    "        for track in track_list:\n",
    "            artist_name = track['artist_name']\n",
    "            duration = track['duration_ms']\n",
    "            \n",
    "            if artist_name in artist_durations:\n",
    "                artist_durations[artist_name] += duration\n",
    "            else:\n",
    "                artist_durations[artist_name] = duration\n",
    "        \n",
    "        # Append result for each playlist\n",
    "        result[str(track_list)] = artist_durations\n",
    "    \n",
    "    return pd.Series(result)\n",
    "\n",
    "(\n",
    "    df_spotify\n",
    "    .withColumn(\"total_duration_per_artist\", total_duration_per_artist_udf(f.col(\"tracks\")))\n",
    ").display()"
   ]
  },
  {
   "cell_type": "markdown",
   "metadata": {},
   "source": [
    "6. Train a linear regression model to predict the total duration of a playlist based on the number of artists and number of tracks in the playlist.\n",
    "\n",
    "Also create a column with the absolute difference between the actual total duration and the predicted total duration.\n",
    "\n",
    "In the end, calculate the MAE of the model."
   ]
  },
  {
   "cell_type": "code",
   "execution_count": null,
   "metadata": {},
   "outputs": [],
   "source": [
    "# Your code goes here@f.pandas_udf(FloatType())\n",
    "def predict_total_duration_udf(tracks: pd.Series) -> pd.Series:\n",
    "    \"\"\"Predict the total duration of a spotify playlist based\n",
    "    on the number of artists and number of tracks in the playlist.\n",
    "    \"\"\"\n",
    "\n",
    "    # Extract features using pandas\n",
    "    num_artists = tracks.apply(lambda x: len(set([song[\"artist_name\"] for song in x])))\n",
    "    num_tracks = tracks.apply(lambda x: len(x))\n",
    "    total_duration = tracks.apply(lambda x: sum([song[\"duration_ms\"] for song in x]))\n",
    "\n",
    "    X = np.vstack([num_artists, num_tracks]).T\n",
    "    y = total_duration.values\n",
    "    model = LinearRegression()\n",
    "    model.fit(X, y)\n",
    "    predictions = model.predict(X)\n",
    "    return pd.Series(predictions)\n",
    "\n",
    "@f.pandas_udf(FloatType())\n",
    "def get_total_duration_udf(tracks: pd.Series) -> pd.Series:\n",
    "    return tracks.apply(lambda x: sum([song[\"duration_ms\"] for song in x]))\n",
    "\n",
    "df_spotify_predictions = (\n",
    "    df_spotify\n",
    "    .withColumn(\n",
    "        'predicted_total_duration',\n",
    "        predict_total_duration_udf(\n",
    "            f.col('tracks')\n",
    "        )\n",
    "    )\n",
    "    .withColumn('total_duration', get_total_duration_udf(f.col('tracks')))\n",
    "    .withColumn('abs_error', f.abs(f.col('predicted_total_duration') - f.col('total_duration')))\n",
    ")\n",
    "\n",
    "df_spotify_predictions.display()"
   ]
  },
  {
   "cell_type": "code",
   "execution_count": null,
   "metadata": {},
   "outputs": [],
   "source": [
    "df_spotify_predictions.agg(f.avg('abs_error')).show()"
   ]
  }
 ],
 "metadata": {
  "language_info": {
   "name": "python"
  }
 },
 "nbformat": 4,
 "nbformat_minor": 2
}
