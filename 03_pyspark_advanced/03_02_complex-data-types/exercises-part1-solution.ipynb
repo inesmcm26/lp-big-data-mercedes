{
 "cells": [
  {
   "cell_type": "code",
   "execution_count": 0,
   "metadata": {
    "application/vnd.databricks.v1+cell": {
     "cellMetadata": {
      "byteLimit": 2048000,
      "rowLimit": 10000
     },
     "inputWidgets": {},
     "nuid": "a00fe438-3eb7-45b0-b678-44ed36c85877",
     "showTitle": false,
     "tableResultSettingsMap": {},
     "title": ""
    }
   },
   "outputs": [],
   "source": [
    "import pyspark.sql.functions as f\n",
    "from pyspark.sql.types import *"
   ]
  },
  {
   "cell_type": "markdown",
   "metadata": {},
   "source": [
    "Start by running the cell bellow to create a Spark DataFrame with complex data types."
   ]
  },
  {
   "cell_type": "code",
   "execution_count": 0,
   "metadata": {
    "application/vnd.databricks.v1+cell": {
     "cellMetadata": {
      "byteLimit": 2048000,
      "rowLimit": 10000
     },
     "inputWidgets": {},
     "nuid": "43ff2266-1eed-4f2c-9e55-14c06799b1db",
     "showTitle": false,
     "tableResultSettingsMap": {},
     "title": ""
    }
   },
   "outputs": [],
   "source": [
    "# Define the schema\n",
    "schema = StructType([\n",
    "    StructField(\"order_id\", IntegerType(), False),\n",
    "    StructField(\"customer_name\", StringType(), False),\n",
    "    StructField(\"items\", ArrayType(StructType([\n",
    "        StructField(\"product\", StringType(), False),\n",
    "        StructField(\"quantity\", IntegerType(), False),\n",
    "        StructField(\"unit_price\", FloatType(), False)\n",
    "    ])), False),\n",
    "    StructField(\"delivery\", StructType([\n",
    "        StructField(\"city\", StringType(), False),\n",
    "        StructField(\"postal_code\", StringType(), False),\n",
    "        StructField(\"status\", StringType(), False)\n",
    "    ])),\n",
    "    StructField(\"ratings\", MapType(StringType(), IntegerType()), False)\n",
    "])\n",
    "\n",
    "# Create the DataFrame\n",
    "data = [\n",
    "    (101, \"John Doe\", [{\"product\": \"Laptop\", \"quantity\": 1, \"unit_price\": 1200.0},\n",
    "                       {\"product\": \"Mouse\", \"quantity\": 2, \"unit_price\": 25.0}],\n",
    "     {\"city\": \"New York\", \"postal_code\": \"10001\", \"status\": \"Delivered\"},\n",
    "     {\"service\": 5, \"product_quality\": 3}),\n",
    "\n",
    "    (102, \"Jane Smith\", [{\"product\": \"Monitor\", \"quantity\": 2, \"unit_price\": 300.0},\n",
    "                         {\"product\": \"Keyboard\", \"quantity\": 1, \"unit_price\": 50.0}],\n",
    "     {\"city\": \"San Francisco\", \"postal_code\": \"94105\", \"status\": \"Shipped\"},\n",
    "     {\"service\": 4, \"product_quality\": 4}),\n",
    "\n",
    "    (103, \"Sam Brown\", [{\"product\": \"Headphones\", \"quantity\": 3, \"unit_price\": 80.0}],\n",
    "     {\"city\": \"Los Angeles\", \"postal_code\": \"90001\", \"status\": \"Pending\"},\n",
    "     {\"service\": 3, \"product_quality\": 3}),\n",
    "    (104, \"Alicia Jones\", [{\"product\": \"Mobile Phone\", \"quantity\": 1, \"unit_price\": 780.0}],\n",
    "     {\"city\": \"New York\", \"postal_code\": \"10003\", \"status\": \"Shipped\"},\n",
    "     {\"service\": 4, \"product_quality\": 4}),\n",
    "    (105, \"Michael Mayer\", [{\"product\": \"Charging Cable\", \"quantity\": 2, \"unit_price\": 7.5},\n",
    "                            {\"product\": \"Webcam\", \"quantity\": 1, \"unit_price\": 170.0},\n",
    "                            {\"product\": \"Headphones\", \"quantity\": 1, \"unit_price\": 80.0}],\n",
    "     {\"city\": \"New York\", \"postal_code\": \"10114\", \"status\": \"Delivered\"},\n",
    "     {\"service\": 5, \"product_quality\": 4}),\n",
    "]\n",
    "\n",
    "df = spark.createDataFrame(data, schema)\n",
    "\n",
    "df.display()"
   ]
  },
  {
   "cell_type": "code",
   "execution_count": 0,
   "metadata": {
    "application/vnd.databricks.v1+cell": {
     "cellMetadata": {
      "byteLimit": 2048000,
      "rowLimit": 10000
     },
     "inputWidgets": {},
     "nuid": "3e64e8f0-662a-4755-af91-227c97bc85eb",
     "showTitle": false,
     "tableResultSettingsMap": {},
     "title": ""
    }
   },
   "outputs": [],
   "source": [
    "df.printSchema()"
   ]
  },
  {
   "cell_type": "markdown",
   "metadata": {},
   "source": [
    "This has one ArrayType column, one StructType column and one MapType column. Each element in the ArrayType column is a StructType.\n",
    "\n",
    "Use the functions we've seen in the lesson to answer the questions. You may also have to use some other functions that we haven't seen in the lesson. You should be able to find all the information you need in the [Spark Functions API](https://spark.apache.org/docs/latest/api/python/reference/pyspark.sql/functions.html)."
   ]
  },
  {
   "cell_type": "markdown",
   "metadata": {
    "application/vnd.databricks.v1+cell": {
     "cellMetadata": {},
     "inputWidgets": {},
     "nuid": "96a1dd09-8129-4091-babe-458df89bc0c3",
     "showTitle": false,
     "tableResultSettingsMap": {},
     "title": ""
    }
   },
   "source": [
    "1. Extract the delivery city for each order."
   ]
  },
  {
   "cell_type": "code",
   "execution_count": 0,
   "metadata": {
    "application/vnd.databricks.v1+cell": {
     "cellMetadata": {
      "byteLimit": 2048000,
      "rowLimit": 10000
     },
     "inputWidgets": {},
     "nuid": "8dfb2155-65a3-4ba1-b181-4be7a49597b7",
     "showTitle": false,
     "tableResultSettingsMap": {},
     "title": ""
    }
   },
   "outputs": [],
   "source": [
    "(\n",
    "    df\n",
    "    .select(\n",
    "        'order_id',\n",
    "        f.col('delivery').getField('city').alias('delivery_city')\n",
    "    )\n",
    ").display()"
   ]
  },
  {
   "cell_type": "markdown",
   "metadata": {
    "application/vnd.databricks.v1+cell": {
     "cellMetadata": {},
     "inputWidgets": {},
     "nuid": "699ba4fe-2cf4-466f-8789-04f2d813c0a2",
     "showTitle": false,
     "tableResultSettingsMap": {},
     "title": ""
    }
   },
   "source": [
    "2. Get the name of the first product in each order."
   ]
  },
  {
   "cell_type": "code",
   "execution_count": 0,
   "metadata": {
    "application/vnd.databricks.v1+cell": {
     "cellMetadata": {
      "byteLimit": 2048000,
      "rowLimit": 10000
     },
     "inputWidgets": {},
     "nuid": "a9e4bb8f-80c2-40e8-b81f-4b546e07473f",
     "showTitle": false,
     "tableResultSettingsMap": {},
     "title": ""
    }
   },
   "outputs": [],
   "source": [
    "(\n",
    "    df\n",
    "    .select(\n",
    "        'order_id',\n",
    "        f.element_at('items', 1).getField(\"product\").alias('first_product')\n",
    "    )\n",
    ").display()"
   ]
  },
  {
   "cell_type": "markdown",
   "metadata": {
    "application/vnd.databricks.v1+cell": {
     "cellMetadata": {},
     "inputWidgets": {},
     "nuid": "e3de4f0f-684c-4e08-b7b2-e253d7bfd397",
     "showTitle": false,
     "tableResultSettingsMap": {},
     "title": ""
    }
   },
   "source": [
    "3. Collapse the `items`, `delivery` and `ratings` columns into a single Struct column called `order_info`.\n",
    "\n",
    "This new struct column should have one struct field for each original column. The keys of the struct fields should be the original column names."
   ]
  },
  {
   "cell_type": "code",
   "execution_count": 0,
   "metadata": {
    "application/vnd.databricks.v1+cell": {
     "cellMetadata": {
      "byteLimit": 2048000,
      "rowLimit": 10000
     },
     "inputWidgets": {},
     "nuid": "b4c03c5d-04a6-414b-9392-eb7615d3fc27",
     "showTitle": false,
     "tableResultSettingsMap": {},
     "title": ""
    }
   },
   "outputs": [],
   "source": [
    "(\n",
    "    df\n",
    "    .select(\n",
    "        'order_id',\n",
    "        'customer_name',\n",
    "        f.struct('items', 'delivery', 'ratings').alias('order_info')\n",
    "    )\n",
    ").display()"
   ]
  },
  {
   "cell_type": "markdown",
   "metadata": {
    "application/vnd.databricks.v1+cell": {
     "cellMetadata": {},
     "inputWidgets": {},
     "nuid": "41acd323-ba05-49d4-ad0e-2c9d9e0d54c0",
     "showTitle": false,
     "tableResultSettingsMap": {},
     "title": ""
    }
   },
   "source": [
    "4. Create a new column with the service rating for each order. Call this new column `service_rating`."
   ]
  },
  {
   "cell_type": "code",
   "execution_count": 0,
   "metadata": {
    "application/vnd.databricks.v1+cell": {
     "cellMetadata": {
      "byteLimit": 2048000,
      "rowLimit": 10000
     },
     "inputWidgets": {},
     "nuid": "56a7f8b2-42b2-4b26-a476-c24aaf7cb5fa",
     "showTitle": false,
     "tableResultSettingsMap": {},
     "title": ""
    }
   },
   "outputs": [],
   "source": [
    "(\n",
    "  df\n",
    "  .select(\n",
    "    'order_id',\n",
    "    f.col('ratings').getItem('product_quality').alias('service_rating')\n",
    "  )\n",
    ").display()"
   ]
  },
  {
   "cell_type": "markdown",
   "metadata": {
    "application/vnd.databricks.v1+cell": {
     "cellMetadata": {},
     "inputWidgets": {},
     "nuid": "3422d9dd-f48d-4a2d-95c7-6bd1ae6e9f4c",
     "showTitle": false,
     "tableResultSettingsMap": {},
     "title": ""
    }
   },
   "source": [
    "5. Create a new boolean column called `perfect_service` that is True when the service rating is 5 and False otherwise"
   ]
  },
  {
   "cell_type": "code",
   "execution_count": 0,
   "metadata": {
    "application/vnd.databricks.v1+cell": {
     "cellMetadata": {
      "byteLimit": 2048000,
      "rowLimit": 10000
     },
     "inputWidgets": {},
     "nuid": "286b5c88-17b9-476a-b8af-394a49514dbc",
     "showTitle": false,
     "tableResultSettingsMap": {},
     "title": ""
    }
   },
   "outputs": [],
   "source": [
    "(\n",
    "    df.withColumn('perfect_service', f.col('ratings').getItem('service') == 5)\n",
    ").display()"
   ]
  },
  {
   "cell_type": "markdown",
   "metadata": {
    "application/vnd.databricks.v1+cell": {
     "cellMetadata": {},
     "inputWidgets": {},
     "nuid": "9c4ddbe3-fa74-46bf-8054-070bf930c01d",
     "showTitle": false,
     "tableResultSettingsMap": {},
     "title": ""
    }
   },
   "source": [
    "**BONUS: This question is a bit harder to answer!**\n",
    "\n",
    "6. Increase the product quality rating by 1 for each order.\n",
    "\n",
    "This change should be reflected on a new column, with the exact same content as the `ratings` column, except that the product quality rating is increased by 1."
   ]
  },
  {
   "cell_type": "code",
   "execution_count": 0,
   "metadata": {
    "application/vnd.databricks.v1+cell": {
     "cellMetadata": {
      "byteLimit": 2048000,
      "rowLimit": 10000
     },
     "inputWidgets": {},
     "nuid": "f615e35d-6a02-4a20-b4ab-43cf568932ee",
     "showTitle": false,
     "tableResultSettingsMap": {},
     "title": ""
    }
   },
   "outputs": [],
   "source": [
    "(\n",
    "    df.select(\n",
    "        'order_id',\n",
    "        f.transform_values(\n",
    "            \"ratings\",\n",
    "            lambda k, v: f.when(k == \"product_quality\", v + 1).otherwise(v)\n",
    "        ).alias('updated_ratings')\n",
    "    )\n",
    ").display()"
   ]
  }
 ],
 "metadata": {
  "application/vnd.databricks.v1+notebook": {
   "computePreferences": null,
   "dashboards": [],
   "environmentMetadata": {
    "base_environment": "",
    "client": "1"
   },
   "language": "python",
   "notebookMetadata": {
    "pythonIndentUnit": 4
   },
   "notebookName": "exercises-part1",
   "widgets": {}
  },
  "language_info": {
   "name": "python"
  }
 },
 "nbformat": 4,
 "nbformat_minor": 0
}
