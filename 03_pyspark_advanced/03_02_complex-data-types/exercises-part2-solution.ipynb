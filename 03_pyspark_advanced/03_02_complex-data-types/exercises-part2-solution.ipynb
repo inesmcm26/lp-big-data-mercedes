{
 "cells": [
  {
   "cell_type": "code",
   "execution_count": null,
   "metadata": {},
   "outputs": [],
   "source": [
    "import pyspark.sql.functions as f\n",
    "from pyspark.sql import Window\n",
    "from datetime import datetime\n",
    "from pyspark.sql.types import *"
   ]
  },
  {
   "cell_type": "markdown",
   "metadata": {},
   "source": [
    "Let's answer some questions about our FruitShop orders data.\n",
    "\n",
    "Create the DataFrame and recall the schema"
   ]
  },
  {
   "cell_type": "code",
   "execution_count": null,
   "metadata": {},
   "outputs": [],
   "source": [
    "# Sample data\n",
    "data = [\n",
    "    {\"order_id\": 5642, \"order_date\": datetime.strptime(\"2024-05-18\", \"%Y-%m-%d\").date(),\n",
    "    \"items\": [\n",
    "        {\"name\": \"Apple\", \"amount\": 1.0, \"unit_price\": 2.99},\n",
    "        {\"name\": \"Banana\", \"amount\": 1.7, \"unit_price\": 1.99}],\n",
    "    'items_discount': ['Apple']},\n",
    "    {\"order_id\": 9762, \"order_date\": datetime.strptime(\"2024-05-02\", \"%Y-%m-%d\").date(),\n",
    "    \"items\": [\n",
    "        {\"name\": \"Strawberry\", \"amount\": 0.5, \"unit_price\": 6.99},\n",
    "        {\"name\": \"Apple\", \"amount\": 3.0, \"unit_price\": 2.99},\n",
    "        {\"name\": \"Peach\", \"amount\": 2.5, \"unit_price\": 3.39}],\n",
    "    'items_discount': ['Apple', 'Peach']},\n",
    "    {\"order_id\": 3652, \"order_date\": datetime.strptime(\"2024-05-23\", \"%Y-%m-%d\").date(),\n",
    "    \"items\": [\n",
    "        {\"name\": \"Banana\", \"amount\": 1.5, \"unit_price\": 1.99}],\n",
    "    'items_discount': []},\n",
    "    {\"order_id\": 1276, \"order_date\": datetime.strptime(\"2024-05-10\", \"%Y-%m-%d\").date(),\n",
    "    \"items\": [\n",
    "        {\"name\": \"Apple\", \"amount\": 2.0, \"unit_price\": 2.99},\n",
    "        {\"name\": \"Banana\", \"amount\": 0.5, \"unit_price\": 1.99},\n",
    "        {\"name\": \"Strawberry\", \"amount\": 1.0, \"unit_price\": 6.99},\n",
    "        {\"name\": \"Strawberry\", \"amount\": 1.0, \"unit_price\": 6.99},\n",
    "        {\"name\": \"Peach\", \"amount\": 1.0, \"unit_price\": 3.39}],\n",
    "    'items_discount': ['Peach', 'Banana']},\n",
    "    {\"order_id\": 8763, \"order_date\": datetime.strptime(\"2024-05-14\", \"%Y-%m-%d\").date(),\n",
    "    \"items\": [\n",
    "        {\"name\": \"Strawberry\", \"amount\": 1.0, \"unit_price\": 6.99},\n",
    "        {\"name\": \"Peach\", \"amount\": 1.0, \"unit_price\": 3.39},\n",
    "        {\"name\": \"Mango\", \"amount\": 1.5, \"unit_price\": 5.99}],\n",
    "    'items_discount': ['Mango']},\n",
    "    {\"order_id\": 7652, \"order_date\": datetime.strptime(\"2024-05-22\", \"%Y-%m-%d\").date(),\n",
    "    \"items\": [\n",
    "        {\"name\": \"Banana\", \"amount\": 1.0, \"unit_price\": 1.99},\n",
    "        {\"name\": \"Mango\", \"amount\": 1.5, \"unit_price\": 5.99}],\n",
    "    'items_discount': ['Mango', 'Banana']},\n",
    "    {\"order_id\": 7631, \"order_date\": datetime.strptime(\"2024-05-22\", \"%Y-%m-%d\").date(),\n",
    "    \"items\": [\n",
    "        {\"name\": \"Banana\", \"amount\": 1.0, \"unit_price\": 1.99},\n",
    "        {\"name\": \"Banana\", \"amount\": 2.5, \"unit_price\": 1.99},],\n",
    "    'items_discount': []}\n",
    "]\n",
    "\n",
    "# Define the schema\n",
    "schema = StructType([\n",
    "    StructField('order_id', IntegerType(), False),\n",
    "    StructField('order_date', DateType(), False),\n",
    "    StructField(\n",
    "        'items',\n",
    "        ArrayType(\n",
    "            StructType([\n",
    "                StructField('name', StringType(), False),\n",
    "                StructField('amount', FloatType(), False),\n",
    "                StructField('unit_price', FloatType(), False)\n",
    "            ]),\n",
    "            False\n",
    "        ),\n",
    "        False\n",
    "    ),\n",
    "    StructField(\"items_discount\", ArrayType(StringType()), True)\n",
    "])\n",
    "\n",
    "\n",
    "# Create DataFrame\n",
    "df_fruitshop = spark.createDataFrame(data, schema=schema)\n",
    "\n",
    "df_fruitshop.printSchema()"
   ]
  },
  {
   "cell_type": "markdown",
   "metadata": {},
   "source": [
    "Answer the following questions. Good luck!"
   ]
  },
  {
   "cell_type": "markdown",
   "metadata": {},
   "source": [
    "1. What is the average number of different items sold per order?"
   ]
  },
  {
   "cell_type": "code",
   "execution_count": null,
   "metadata": {},
   "outputs": [],
   "source": [
    "(\n",
    "    df_fruitshop\n",
    "    .withColumn(\n",
    "        'unique_item_names',\n",
    "        f.array_distinct(f.transform(f.col('items'), lambda x: x['name']))\n",
    "    )\n",
    "    .withColumn(\"num_items\", f.size(\"unique_item_names\"))\n",
    "    .select(\n",
    "        f.avg(\"num_items\").alias(\"average_items_per_order\")\n",
    "    )\n",
    ").display()"
   ]
  },
  {
   "cell_type": "markdown",
   "metadata": {},
   "source": [
    "2. For each fruit, what is the total amount sold among all orders?\n",
    "\n",
    "***Hint:*** Start by transforming the data into a more usable format."
   ]
  },
  {
   "cell_type": "code",
   "execution_count": null,
   "metadata": {},
   "outputs": [],
   "source": [
    "(\n",
    "    df_fruitshop\n",
    "    .select(f.inline('items'))\n",
    "    .groupBy('name')\n",
    "    .agg(f.sum('amount').alias('total_amount'))\n",
    ").display()"
   ]
  },
  {
   "cell_type": "markdown",
   "metadata": {},
   "source": [
    "3. What was the total amount of `Peach` that was sold among all orders where `Peach` was at discount?"
   ]
  },
  {
   "cell_type": "code",
   "execution_count": null,
   "metadata": {},
   "outputs": [],
   "source": [
    "(\n",
    "    df_fruitshop\n",
    "    # Explode items to get one row per item\n",
    "    .select(\n",
    "        'order_id',\n",
    "        'items_discount',\n",
    "        f.explode(f.col('items')).alias('item')\n",
    "    )\n",
    "    # Filter for Peach items with discount\n",
    "    .filter(\n",
    "        (f.col('item.name') == 'Peach')\n",
    "        & (f.array_contains(f.col('items_discount'), 'Peach'))\n",
    "    )\n",
    "    .select(\n",
    "        f.sum('item.amount').alias('total_amount')\n",
    "    )\n",
    ").display()"
   ]
  },
  {
   "cell_type": "markdown",
   "metadata": {},
   "source": [
    "4. What is the price of the most expensive item in each order?"
   ]
  },
  {
   "cell_type": "code",
   "execution_count": null,
   "metadata": {},
   "outputs": [],
   "source": [
    "(\n",
    "    df_fruitshop\n",
    "    # Get item prices in a seperate array\n",
    "    .withColumn(\n",
    "        'items_price',\n",
    "        f.transform(f.col('items'), lambda x: x['unit_price'])\n",
    "    )\n",
    "    # Get the maximum value in the prices array\n",
    "    .withColumn(\n",
    "        'max_price',\n",
    "        f.array_max(f.col('items_price'))\n",
    "    )\n",
    ").display()"
   ]
  },
  {
   "cell_type": "markdown",
   "metadata": {},
   "source": [
    "5. What is the name of the most expensive item in each order?\n",
    "\n",
    "***Hint:*** Use a window function or a groupBy to solve this question."
   ]
  },
  {
   "cell_type": "code",
   "execution_count": null,
   "metadata": {},
   "outputs": [],
   "source": [
    "# Solution with window function\n",
    "window = Window.partitionBy('order_id')\n",
    "\n",
    "(\n",
    "    df_fruitshop\n",
    "    .select('order_id', f.inline('items'))\n",
    "    .withColumn(\n",
    "        'max_price',\n",
    "        f.max(f.col('unit_price')).over(window)\n",
    "    )\n",
    "    .filter(f.col('unit_price') == f.col('max_price'))\n",
    "    .dropDuplicates()\n",
    "    .select(\n",
    "        'order_id',\n",
    "        'name'\n",
    "    )\n",
    ").display()"
   ]
  },
  {
   "cell_type": "code",
   "execution_count": null,
   "metadata": {},
   "outputs": [],
   "source": [
    "(\n",
    "    df_fruitshop\n",
    "    .select('order_id', f.inline('items'))\n",
    "    .orderBy('order_id', f.desc('unit_price'))\n",
    "    .groupBy('order_id')\n",
    "    .agg(f.first('name').alias('name'))\n",
    ").display()"
   ]
  },
  {
   "cell_type": "markdown",
   "metadata": {},
   "source": [
    "Solution without `inline` or `explode`\n",
    "\n",
    "**NOTE:** This code is only supported in spark versions >= 3.4.0. Make sure you initialize a cluster with runtime 13.3 LTS or above. You can do this in 'Create new resource' and then select the desired runtime"
   ]
  },
  {
   "cell_type": "code",
   "execution_count": null,
   "metadata": {},
   "outputs": [],
   "source": [
    "(\n",
    "    df_fruitshop\n",
    "    .withColumn(\n",
    "        'sorted_items',\n",
    "        # The array_sorte receives a columns and a function that compares\n",
    "        # two elements in an array at a time. This comparison function should\n",
    "        # return -1 if the first is smaller than the second and 1 the other way around\n",
    "        f.array_sort(\n",
    "            'items',\n",
    "            lambda x, y: f.when(x.getField('unit_price') < y.getField('unit_price'), 1).otherwise(-1)\n",
    "        )\n",
    "    )\n",
    "    .select(\n",
    "        'order_id',\n",
    "        # The new column 'sorted_items' is a Struct. We can extract elements\n",
    "        # from a struct using the getField method\n",
    "        f.element_at('sorted_items', 1).getField('name').alias('name'),\n",
    "        f.element_at('sorted_items', 1).getField('unit_price').alias('max_price')\n",
    "    )\n",
    ").display()"
   ]
  }
 ],
 "metadata": {
  "language_info": {
   "name": "python"
  }
 },
 "nbformat": 4,
 "nbformat_minor": 2
}
