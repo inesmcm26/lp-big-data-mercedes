{
 "cells": [
  {
   "cell_type": "code",
   "execution_count": null,
   "metadata": {},
   "outputs": [],
   "source": [
    "import pyspark.sql.functions as f\n",
    "from pyspark.sql import Window"
   ]
  },
  {
   "cell_type": "markdown",
   "metadata": {},
   "source": [
    "Let's get back to our orders and products datasets and practice window functions!\n",
    "\n",
    "**NOTE:** The orders and products datasets were downloaded and preprocessed on module 2. If you haven't run all the notebooks (including exercises solutions) from module 2, please download the data and save it to the FileStore by running the cells bellow"
   ]
  },
  {
   "cell_type": "code",
   "execution_count": null,
   "metadata": {},
   "outputs": [],
   "source": [
    "%sh\n",
    "\n",
    "wget https://raw.githubusercontent.com/inesmcm26/lp-big-data-mercedes/refs/heads/main/data/orders-preprocessed.csv\n",
    "wget https://raw.githubusercontent.com/inesmcm26/lp-big-data-mercedes/refs/heads/main/data/products-preprocessed.csv"
   ]
  },
  {
   "cell_type": "code",
   "execution_count": null,
   "metadata": {},
   "outputs": [],
   "source": [
    "%fs cp file:/databricks/driver/orders-preprocessed.csv dbfs:/FileStore/lp-big-data/orders-data/orders-preprocessed.csv"
   ]
  },
  {
   "cell_type": "code",
   "execution_count": null,
   "metadata": {},
   "outputs": [],
   "source": [
    "%fs cp file:/databricks/driver/products-preprocessed.csv dbfs:/FileStore/lp-big-data/orders-data/products-preprocessed.csv"
   ]
  },
  {
   "cell_type": "markdown",
   "metadata": {},
   "source": [
    "Run the code below to load and join the datasets and take a look at the final dataset.\n",
    "\n",
    "Next, answer the questions below."
   ]
  },
  {
   "cell_type": "code",
   "execution_count": null,
   "metadata": {},
   "outputs": [],
   "source": [
    "df_orders = (\n",
    "    spark.read.format(\"csv\")\n",
    "    .option(\"header\", \"true\")\n",
    "    .option(\"inferSchema\", \"true\")\n",
    "    .option(\"sep\", \",\")\n",
    "    .load(\"/FileStore/lp-big-data/orders-data/orders-preprocessed.csv\")\n",
    ")\n",
    "\n",
    "df_products = (\n",
    "    spark.read.format(\"csv\")\n",
    "    .option(\"header\", \"true\")\n",
    "    .option(\"inferSchema\", \"true\")\n",
    "    .option(\"sep\", \",\")\n",
    "    .load(\"/FileStore/lp-big-data/orders-data/products-preprocessed.csv\")\n",
    ")\n",
    "\n",
    "df_orders_products = (\n",
    "    df_orders.join(\n",
    "        df_products,\n",
    "        on=['product_id'],\n",
    "        how='left'\n",
    "    )\n",
    ")\n",
    "\n",
    "df_orders_products.display()"
   ]
  },
  {
   "cell_type": "markdown",
   "metadata": {},
   "source": [
    "1. Rank each customer based on the total amount of ordered products.\n",
    "\n",
    "The ranking should have no gaps."
   ]
  },
  {
   "cell_type": "code",
   "execution_count": null,
   "metadata": {},
   "outputs": [],
   "source": [
    "# First, get the total amount of ordered products by customer\n",
    "df_total_amount = (\n",
    "    df_orders_products\n",
    "    .groupBy('customer_id')\n",
    "    .agg(f.sum('amount').alias('total_amount'))\n",
    ")\n",
    "\n",
    "df_total_amount.display()"
   ]
  },
  {
   "cell_type": "code",
   "execution_count": null,
   "metadata": {},
   "outputs": [],
   "source": [
    "# Define the window ordered by 'total_amount' in descending order\n",
    "window = Window.orderBy(f.desc('total_amount'))\n",
    "\n",
    "(\n",
    "    df_total_amount\n",
    "    # Rank the customers by their total amount of ordered products\n",
    "    .withColumn('customer_rank', f.dense_rank().over(window))\n",
    ").display()"
   ]
  },
  {
   "cell_type": "markdown",
   "metadata": {},
   "source": [
    "Here is the whole solution:"
   ]
  },
  {
   "cell_type": "code",
   "execution_count": null,
   "metadata": {},
   "outputs": [],
   "source": [
    "window = Window.orderBy(f.desc('total_amount'))\n",
    "\n",
    "(\n",
    "    df_orders_products\n",
    "    # Get the total amount of ordered products by customer\n",
    "    .groupBy('customer_id')\n",
    "    .agg(f.sum('amount').alias('total_amount'))\n",
    "    # Rank the customers by their total amount of ordered products\n",
    "    .withColumn('customer_rank', f.dense_rank().over(window))\n",
    ").display()"
   ]
  },
  {
   "cell_type": "markdown",
   "metadata": {},
   "source": [
    "2. For each order placed by a customer, what is the difference in days between the order's placing date and the placing date of their previous order?"
   ]
  },
  {
   "cell_type": "code",
   "execution_count": null,
   "metadata": {},
   "outputs": [],
   "source": [
    "# Define the window: partition by 'customer_id' and order by 'placing_date'\n",
    "window = Window.partitionBy('customer_id').orderBy('placing_date')\n",
    "\n",
    "(\n",
    "    df_orders_products\n",
    "    # Get the previous order date for each order\n",
    "    .withColumn(\n",
    "        'prev_order_date',\n",
    "        f.lag('placing_date').over(window)\n",
    "    )\n",
    "    # Calculate the difference in days between the current and previous order\n",
    "    .withColumn(\n",
    "        'days_diff',\n",
    "        f.datediff(\n",
    "            f.col('placing_date'),\n",
    "            f.col('prev_order_date')\n",
    "        )\n",
    "    )\n",
    "    .select(\n",
    "        'customer_id',\n",
    "        'order_id',\n",
    "        'placing_date',\n",
    "        'prev_order_date',\n",
    "        'days_diff'\n",
    "    )\n",
    ").display()"
   ]
  },
  {
   "cell_type": "markdown",
   "metadata": {},
   "source": [
    "3. For each order placed by a customer, what is the difference in revenue between the current order and the average revenue of the customer's previous three orders?"
   ]
  },
  {
   "cell_type": "code",
   "execution_count": null,
   "metadata": {},
   "outputs": [],
   "source": [
    "# Define the window: partition by 'customer_id', order by 'placing_date' and select the last 3 rows\n",
    "window = Window.partitionBy('customer_id').orderBy('placing_date').rowsBetween(-3, -1)\n",
    "\n",
    "(\n",
    "    df_orders_products\n",
    "    # Calculate the average revenue for the last 3 orders\n",
    "    .withColumn(\n",
    "        'avg_revenue',\n",
    "        f.avg('revenue').over(window)\n",
    "    )\n",
    "    # Calculate the difference between the total price and the average revenue\n",
    "    .withColumn(\n",
    "        'revenue_diff',\n",
    "        f.col('revenue') - f.col('avg_revenue')\n",
    "    )\n",
    "    .select(\n",
    "        'customer_id',\n",
    "        'order_id',\n",
    "        'placing_date',\n",
    "        'revenue',\n",
    "        'avg_revenue',\n",
    "        'revenue_diff'\n",
    "    )\n",
    ").display()"
   ]
  },
  {
   "cell_type": "markdown",
   "metadata": {},
   "source": [
    "4. What is the yearly average profit increase or decrease (difference between year Y and year Y-1) for each supplier?\n",
    "\n",
    "The average profit for a supplier is determined by calculating the average profit from all orders of products supplied by that supplier."
   ]
  },
  {
   "cell_type": "code",
   "execution_count": null,
   "metadata": {},
   "outputs": [],
   "source": [
    "# First, get the average profit for each supplier in each year\n",
    "df_avg_profit = (\n",
    "    df_orders_products\n",
    "    .groupBy(['order_year', 'supplier_id'])\n",
    "    .agg(f.avg('profit').alias('avg_profit'))\n",
    ")\n",
    "\n",
    "df_avg_profit.display()"
   ]
  },
  {
   "cell_type": "code",
   "execution_count": null,
   "metadata": {},
   "outputs": [],
   "source": [
    "# Next, define the window: partition by 'supplier_id', order by 'order_year'\n",
    "window = Window.partitionBy('supplier_id').orderBy('order_year')\n",
    "\n",
    "(\n",
    "    df_avg_profit\n",
    "    # Get the previous year average profit for each supplier\n",
    "    .withColumn('prev_year_avg_profit', f.lag('avg_profit').over(window))\n",
    "    # Calculate the difference between the average profit and the previous year average profit\n",
    "    .withColumn('profit_diff', f.col('avg_profit') - f.col('prev_year_avg_profit'))\n",
    ").display()"
   ]
  },
  {
   "cell_type": "markdown",
   "metadata": {},
   "source": [
    "Here is the whole solution:"
   ]
  },
  {
   "cell_type": "code",
   "execution_count": null,
   "metadata": {},
   "outputs": [],
   "source": [
    "(\n",
    "    df_orders_products\n",
    "    # Get the average profit for each supplier in each year\n",
    "    .groupBy(['order_year', 'supplier_id'])\n",
    "    .agg(f.avg('profit').alias('avg_profit'))\n",
    "    # Get the previous year average profit for each supplier\n",
    "    .withColumn('prev_year_avg_profit', f.lag('avg_profit').over(window))\n",
    "    # Calculate the difference between the average profit and the previous year average profit\n",
    "    .withColumn('profit_diff', f.col('avg_profit') - f.col('prev_year_avg_profit'))\n",
    ").display()"
   ]
  },
  {
   "cell_type": "markdown",
   "metadata": {},
   "source": [
    "5. **BONUS** Calculate the cumulative sum of average revenue generated by each customer over the years\n",
    "\n",
    "Hint: Check the `rowsBetween()` documentation [here](https://spark.apache.org/docs/latest/api/python/reference/pyspark.sql/api/pyspark.sql.Window.rowsBetween.html#pyspark.sql.Window.rowsBetween)"
   ]
  },
  {
   "cell_type": "code",
   "execution_count": null,
   "metadata": {},
   "outputs": [],
   "source": [
    "window = (\n",
    "    Window\n",
    "    .partitionBy('customer_id')\n",
    "    .orderBy('order_year')\n",
    "    # Define the window frame: from the first year to the current year\n",
    "    .rowsBetween(Window.unboundedPreceding, Window.currentRow)\n",
    ")\n",
    "\n",
    "(\n",
    "    df_orders_products\n",
    "    # Calculate the total revenue for each customer in each year\n",
    "    .groupBy('customer_id', 'order_year')\n",
    "    .agg(f.avg('revenue').alias('avg_revenue'))\n",
    "    # Calculate the cumulative revenue for each customer over the years\n",
    "    .withColumn(\n",
    "        'cum_revenue',\n",
    "        f.sum('avg_revenue').over(window)\n",
    "    )\n",
    ").display()"
   ]
  }
 ],
 "metadata": {
  "language_info": {
   "name": "python"
  }
 },
 "nbformat": 4,
 "nbformat_minor": 2
}
