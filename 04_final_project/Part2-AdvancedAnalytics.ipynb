{
 "cells": [
  {
   "cell_type": "code",
   "execution_count": null,
   "metadata": {},
   "outputs": [],
   "source": [
    "import json\n",
    "import hashlib\n",
    "import pyspark.sql.functions as f"
   ]
  },
  {
   "cell_type": "markdown",
   "metadata": {},
   "source": [
    "**Initial Note:** Initialize a cluster with runtime 13.3 LTS and spark version 3.4.1"
   ]
  },
  {
   "cell_type": "markdown",
   "metadata": {},
   "source": [
    "## Project Overview\n",
    "\n",
    "Let's do a quick recap of the project: \n",
    "- You'll be working with the [Google Analytics Sample dataset](https://console.cloud.google.com/marketplace/product/obfuscated-ga360-data/obfuscated-ga360-data?inv=1&invt=AbmlmQ), which contains real data from the [Google Merchandise Store](https://shop.googlemerchandisestore.com/), a real ecommerce store that sells Google-branded merchandise. This data is similar to what you deal with in your day-to-day work as a data analyst.\n",
    "- In Part 1 you downloaded the data, preprocessed it and answered some simple analytics questions.\n",
    "\n",
    "### Part 2 - Advanced Analytics\n",
    "\n",
    "In this part of the project, you will use the data you prepared in Part 1 to answer medium to hard analytics questions about the data.\n",
    "\n",
    "### Task Completion and Validation\n",
    "Throughout the notebooks, you will be asked to complete a series of tasks and answer questions. You’ll encounter empty cells where you need to implement the solution, as well as commented-out cells that you should uncomment and fill in with your responses. Afterward, assertion cells will check whether you've completed the tasks correctly.\n",
    "\n",
    "This way you can have immediate feedback on your work, and you can ask questions if you get stuck."
   ]
  },
  {
   "cell_type": "markdown",
   "metadata": {},
   "source": [
    "## Load the data\n",
    "\n",
    "If you have completed the first part of this project, you should already have the data saved in the DBFS."
   ]
  },
  {
   "cell_type": "code",
   "execution_count": null,
   "metadata": {},
   "outputs": [],
   "source": [
    "df_main = spark.read.parquet('/FileStore/final_project/ga_sessions_main.parquet')\n",
    "df_hits = spark.read.parquet('/FileStore/final_project/ga_sessions_hits.parquet')\n",
    "df_network = spark.read.parquet('/FileStore/final_project/ga_sessions_network.parquet')"
   ]
  },
  {
   "cell_type": "markdown",
   "metadata": {},
   "source": [
    "### [OPTIONAL] In case you don't have the data yet, run the cells bellow"
   ]
  },
  {
   "cell_type": "code",
   "execution_count": null,
   "metadata": {},
   "outputs": [],
   "source": [
    "%sh wget https://raw.githubusercontent.com/inesmcm26/lp-big-data-mercedes/main/data/ga_sessions.zip"
   ]
  },
  {
   "cell_type": "code",
   "execution_count": null,
   "metadata": {},
   "outputs": [],
   "source": [
    "%sh unzip ga_sessions.zip"
   ]
  },
  {
   "cell_type": "code",
   "execution_count": null,
   "metadata": {},
   "outputs": [],
   "source": [
    "dbutils.fs.cp('file:/databricks/driver/ga_sessions_main.parquet', 'dbfs:/FileStore/final_project/ga_sessions_main.parquet')\n",
    "dbutils.fs.cp('file:/databricks/driver/ga_sessions_network.parquet', 'dbfs:/FileStore/final_project/ga_sessions_network.parquet')\n",
    "dbutils.fs.cp('file:/databricks/driver/ga_sessions_hits.parquet', 'dbfs:/FileStore/final_project/ga_sessions_hits.parquet')\n",
    "\n",
    "df_main = spark.read.parquet('/FileStore/final_project/ga_sessions_main.parquet')\n",
    "df_hits = spark.read.parquet('/FileStore/final_project/ga_sessions_hits.parquet')\n",
    "df_network = spark.read.parquet('/FileStore/final_project/ga_sessions_network.parquet')"
   ]
  },
  {
   "cell_type": "markdown",
   "metadata": {},
   "source": [
    "### Data Cleaning\n",
    "\n",
    "Run the cells bellow to apply the data cleaning operations you implemented in the first part of this project."
   ]
  },
  {
   "cell_type": "code",
   "execution_count": null,
   "metadata": {},
   "outputs": [],
   "source": [
    "df_main = (\n",
    "    df_main\n",
    "    .fillna('Direct', subset=['channelGrouping'])\n",
    ")\n",
    "\n",
    "df_network = (\n",
    "    df_network\n",
    "    .withColumn(\n",
    "        'geoNetwork',\n",
    "        f.col('geoNetwork').withField('continent', f.lower(f.col('geoNetwork').getField('continent')))\n",
    "    )\n",
    ")"
   ]
  },
  {
   "cell_type": "markdown",
   "metadata": {},
   "source": [
    "## Datasets Overview\n",
    "\n",
    "The column that identifies a session and is **common to all tables** is the `sessionId` column.\n",
    "\n",
    "\n",
    "**Main dataset:**\n",
    "Besides the session id, the main dataset contains the following columns:\n",
    "- **visitorId**: The unique identifier for a visitor\n",
    "- **visitNumber**: The visit number of this visitor. If this is the first visit to the website, then this is set to 1.\n",
    "- **visitStartTime**: The timestamp (expressed as POSIX time) of the beginning of the session\n",
    "- **totals**: A struct with statistics about the session, such as total number of hits, time on site, number of transactions and revenue, etc.\n",
    "- **channelGrouping**: The channel via which the user came to the Store\n",
    "\n",
    "**Hits dataset:**\n",
    "Besides the session id, the hits dataset contains the following column:\n",
    "- **hits**: An array of structs representing all the hits in this session. A hit is an interaction that results in data being sent to Google Analytics. It can either be a page visit or an interaction with some page element. Each struct is a hit defined by the following fields:\n",
    "    - **hitNumber**: The number of this hit in the session\n",
    "    - **type**: Type of the hit: 'PAGE' (Page visit) or 'EVENT' (Interaction with some element on the page)\n",
    "    - **hour**: Hour of the hit\n",
    "    - **minute**: Minute of the hit\n",
    "    - **time**: Time spent on the hit\n",
    "    - **page**: Structured information about the page\n",
    "    - **contentGroup**: Information about the content categorization of the page on the website\n",
    "    - **product**: Array of structs with product information of all products displayed on the page\n",
    "    - **eventInfo**: If hit is of type 'EVENT', this field contains information about the event\n",
    "    - **promotion**: Array of structs with promotion information of all promotions displayed on the page.\n",
    "    - **promotionActionInfo**: Present when there is a promotion on the hit. It explains whether the promotion was clicked (which corresponds to a hit of type 'EVENT' and this event is a 'Promotion Click'), or the promotion is just viewed on the page but was not clicked. \n",
    "    - **transaction**: Information about the transaction when the hit is an event 'Confirm Checkout'. Null otherwise.\n",
    "\n",
    "**Network dataset:** Besides the session id, the network dataset contains the following columns:\n",
    "\n",
    "- **trafficSource**: A struct with information about the source of the session, as well as adds and campaign information\n",
    "- **device**: A struct with information about the device used in the session\n",
    "- **geoNetwork**: A struct with information about the geographic location of the user. Most of this information is obscured and only city, country and country are available.\n",
    "- **customDimensions**: Extra traffic information. You can ignore this column.\n",
    "\n"
   ]
  },
  {
   "cell_type": "markdown",
   "metadata": {},
   "source": [
    "## Answer business questions"
   ]
  },
  {
   "cell_type": "markdown",
   "metadata": {},
   "source": [
    "### Medium questions"
   ]
  },
  {
   "cell_type": "markdown",
   "metadata": {},
   "source": [
    "5. What are the top 5 products that are most added to the cart?\n",
    "\n",
    "**NOTES:**\n",
    "- Use the hits dataset to answer this question.\n",
    "- A hit of type 'EVENT' can correspond to one of the following event actions (`eventAction` field of `eventInfo`):\n",
    "    - Product Click\n",
    "    - Add to Cart -> This event is the one you're looking for\n",
    "    - Remove from Cart\n",
    "    - Quickview Click\n",
    "    - Onsite Click\n",
    "    - Promotion Click\n",
    "- A product is identified by its SKU value. You can find this value in field `productSKU` of a product. Remember that the `product` column is an array of structured product information of each product involved in a hit.\n",
    "- When a hit is of type 'EVENT' and the event action is 'Add to Cart', the `productSKU` field of the product struct contains the SKU of the product added to the cart."
   ]
  },
  {
   "cell_type": "code",
   "execution_count": null,
   "metadata": {},
   "outputs": [],
   "source": [
    "# WRITE YOUR CODE HERE"
   ]
  },
  {
   "cell_type": "code",
   "execution_count": null,
   "metadata": {},
   "outputs": [],
   "source": [
    "# top_producs = [\"product_sku_1\", \"product_sku_2\", ...] REPLACE THE VALUES WITH THE CORRECT ONES"
   ]
  },
  {
   "cell_type": "code",
   "execution_count": null,
   "metadata": {},
   "outputs": [],
   "source": [
    "# Run this test to verify that the answer is correct\n",
    "try:\n",
    "    assert isinstance(top_products, list)\n",
    "    assert len(top_products) == 5\n",
    "    for browser in top_products:\n",
    "        assert isinstance(browser, str)\n",
    "except:\n",
    "    print(\"The variable `top_products` should be a list with 5 strings\")\n",
    "\n",
    "try:\n",
    "    assert hashlib.sha256(json.dumps(''.join(top_products)).encode()).hexdigest() == '2758b9ec187f6a3f3d13a35a194c82b92e12ba7b995037a84c3f4262dacac35f'\n",
    "    print('Good job! The answer is correct')\n",
    "except:\n",
    "    print('The answer is not right yet! Try again')\n",
    "    print('Make sure you wrote the product ids are in the correct order')"
   ]
  },
  {
   "cell_type": "markdown",
   "metadata": {},
   "source": [
    "6. What is the average time spent by users on the 'Shopping Cart' page in sessions where a purchase was made?\n",
    "\n",
    "Answer with 2 decimal places.\n",
    "\n",
    "**NOTES**\n",
    "- To determine sessions where purchases were made, filter the main dataframe by checking the `transactions` field of the `totals` column. If the field is non-null and greater than 0, it indicates that a purchase occurred during the session.\n",
    "- You can determine if a hit corresponds to a user being on the 'Shopping Cart' page by checking the `pageTitle` field of the `page` struct in the `hits` column. Only hits of type 'PAGE' should be considered.\n",
    "- The time spent on a hit is available on the `time` field of the `hits` column"
   ]
  },
  {
   "cell_type": "code",
   "execution_count": null,
   "metadata": {},
   "outputs": [],
   "source": [
    "# WRITE YOUR CODE HERE"
   ]
  },
  {
   "cell_type": "code",
   "execution_count": null,
   "metadata": {},
   "outputs": [],
   "source": [
    "# avg_time = WRITE THE SOLUTION HERE"
   ]
  },
  {
   "cell_type": "code",
   "execution_count": null,
   "metadata": {},
   "outputs": [],
   "source": [
    "# Run this test to verify that the answer is correct\n",
    "try:\n",
    "    assert isinstance(avg_time, float)\n",
    "except:\n",
    "    print('You should assign a float value to the variable `avg_time`')\n",
    "\n",
    "try:\n",
    "    assert hashlib.sha256(str(avg_time).encode('utf-8')).hexdigest() == '5434c334d8669be826679ae262c9feb5b895a269d1afde5fd2bdb3fe24fa2d2c'\n",
    "    print('Good job! The answer is correct')\n",
    "except:\n",
    "    print('The answer is not right yet! Try again')"
   ]
  },
  {
   "cell_type": "markdown",
   "metadata": {},
   "source": [
    "### Hard questions"
   ]
  },
  {
   "cell_type": "markdown",
   "metadata": {},
   "source": [
    "7. In sessions where a promotion was clicked and at least one product was added to the cart, what is the ID of the most clicked promotion?\n",
    "\n",
    "**NOTES:**\n",
    "- Use the hits dataset to answer this question.\n",
    "- Promotion clicks and adding a product to the cart correspond to hits of type 'EVENT'.\n",
    "- To determine if a hit corresponds to a product being added to the cart or a promotion click, analyze the `eventInfo` column. There are these possible `eventAction` values:\n",
    "    - Product Click\n",
    "    - Add to Cart -> This event must be present in the session\n",
    "    - Remove from Cart\n",
    "    - Quickview Click\n",
    "    - Onsite Click\n",
    "    - Promotion Click -> This event must be present in the session\n",
    "- For hits where there was a promotion click, the `promotion` column contains an array with only element - details of the clicked promotion. The promotion id can be found in the `promoId` field within that element."
   ]
  },
  {
   "cell_type": "code",
   "execution_count": null,
   "metadata": {},
   "outputs": [],
   "source": [
    "# WRITE YOUR CODE HERE"
   ]
  },
  {
   "cell_type": "code",
   "execution_count": null,
   "metadata": {},
   "outputs": [],
   "source": [
    "# promo_id = WRITE THE SOLUTION HERE"
   ]
  },
  {
   "cell_type": "code",
   "execution_count": null,
   "metadata": {},
   "outputs": [],
   "source": [
    "# Run this test to verify that the answer is correct\n",
    "try:\n",
    "    assert isinstance(promo_id, str)\n",
    "except:\n",
    "    print('You should assign a string value to the variable `promo_id`')\n",
    "\n",
    "try:\n",
    "    assert hashlib.sha256(promo_id.encode('utf-8')).hexdigest() == '2f34cf7b9ce1f5062f0fe6f8f9a6d073214fc6869ba4a85014bab1cf672e80cc'\n",
    "    print('Good job! The answer is correct')\n",
    "except:\n",
    "    print('The answer is not right yet! Try again')"
   ]
  },
  {
   "cell_type": "markdown",
   "metadata": {},
   "source": [
    "8. Identify the user that most views promotions in sessions but never clicks on them.\n",
    "\n",
    "To solve this, you'll need to count the number of sessions where each user viewed a promotion but never clicked on it. The user with the highest count is the one you're looking for.\n",
    "\n",
    "Use a UDF to answer the question.\n",
    "\n",
    "**NOTES:**\n",
    "- Check the `promoIsView` field in `promotionActionInfo` to determine if promotions were viewed on a hit.\n",
    "- Check the `promoIsClick` field in `promotionActionInfo` to determine if a user clicked on a promotion on a hit.\n",
    "- Start by creating a boolean column that indicates if promotions were viewed during a session but none was clicked. To create this column you should apply a udf directly to the `hits` column on the hits dataframe.\n",
    "-  Then calculate the total number of sessions where this occurred for each user. The visitor id for each session is on the main dataframe."
   ]
  },
  {
   "cell_type": "code",
   "execution_count": null,
   "metadata": {},
   "outputs": [],
   "source": [
    "# WRITE YOUR CODE HERE"
   ]
  },
  {
   "cell_type": "code",
   "execution_count": null,
   "metadata": {},
   "outputs": [],
   "source": [
    "# visitor_id = WRITE THE SOLUTION HERE"
   ]
  },
  {
   "cell_type": "code",
   "execution_count": null,
   "metadata": {},
   "outputs": [],
   "source": [
    "# Run this test to verify that the answer is correct\n",
    "try:\n",
    "    assert isinstance(visitor_id, str)\n",
    "except:\n",
    "    print('You should assign a string value to the variable `visitor_id`')\n",
    "\n",
    "try:\n",
    "    assert hashlib.sha256(visitor_id.encode('utf-8')).hexdigest() == '230dd9fdc397961e79b1a698614b91f948ac7ab685261b7d21bf842387768fe9'\n",
    "    print('Good job! The answer is correct')\n",
    "except:\n",
    "    print('The answer is not right yet! Try again')"
   ]
  }
 ],
 "metadata": {
  "kernelspec": {
   "display_name": "daredata",
   "language": "python",
   "name": "python3"
  },
  "language_info": {
   "codemirror_mode": {
    "name": "ipython",
    "version": 3
   },
   "file_extension": ".py",
   "mimetype": "text/x-python",
   "name": "python",
   "nbconvert_exporter": "python",
   "pygments_lexer": "ipython3",
   "version": "3.10.13"
  }
 },
 "nbformat": 4,
 "nbformat_minor": 2
}
