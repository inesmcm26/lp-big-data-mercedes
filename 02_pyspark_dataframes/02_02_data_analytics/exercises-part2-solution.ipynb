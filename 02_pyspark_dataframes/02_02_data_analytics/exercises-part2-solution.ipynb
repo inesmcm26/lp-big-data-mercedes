{
 "cells": [
  {
   "cell_type": "code",
   "execution_count": null,
   "metadata": {},
   "outputs": [],
   "source": [
    "import pyspark.sql.functions as f\n",
    "import matplotlib.pyplot as plt\n",
    "import seaborn as sns"
   ]
  },
  {
   "cell_type": "markdown",
   "metadata": {},
   "source": [
    "In the PySpark DataFrames - Part 3 notebook we've seen more methods and functions that you can use to manipulate DataFrames in PySpark to perform some data analysis.\n",
    "\n",
    "In this notebook there are some more of those questions that you can answer using PySpark DataFrames methods and SQL functions.\n",
    "\n",
    "Some of them will require you to look into the documentation to find the right function to use, which we think is the best way to learn how to use PySpark.\n",
    "\n",
    "So, let's get started!"
   ]
  },
  {
   "cell_type": "markdown",
   "metadata": {},
   "source": [
    "First, let's get the preprocessed orders and products dataframes."
   ]
  },
  {
   "cell_type": "code",
   "execution_count": null,
   "metadata": {},
   "outputs": [],
   "source": [
    "df_orders = (\n",
    "    spark.read.format(\"csv\")\n",
    "    .option(\"header\", \"true\")\n",
    "    .option(\"inferSchema\", \"true\")\n",
    "    .option(\"sep\", \",\")\n",
    "    .load(\"/FileStore/lp-big-data/orders-data/orders-preprocessed.csv\")\n",
    ")\n",
    "\n",
    "df_products = (\n",
    "    spark.read.format(\"csv\")\n",
    "    .option(\"header\", \"true\")\n",
    "    .option(\"inferSchema\", \"true\")\n",
    "    .option(\"sep\", \",\")\n",
    "    .load(\"/FileStore/lp-big-data/orders-data/products-preprocessed.csv\")\n",
    ")"
   ]
  },
  {
   "cell_type": "markdown",
   "metadata": {},
   "source": [
    "Join the tables on the product_id column and store the result in a new dataframe called _df_orders_products_.\n",
    "\n",
    "When joining, make sure to keep all orders, even the ones without a matching product in the products dataframe."
   ]
  },
  {
   "cell_type": "code",
   "execution_count": null,
   "metadata": {},
   "outputs": [],
   "source": [
    "df_orders_products = (\n",
    "    df_orders.join(\n",
    "        df_products,\n",
    "        on=['product_id'],\n",
    "        how='left'\n",
    "    )\n",
    ")\n",
    "\n",
    "df_orders_products.display()"
   ]
  },
  {
   "cell_type": "markdown",
   "metadata": {},
   "source": [
    "1. What is the ID of the most profitable customer ever? The one with the highest total profit among all his orders."
   ]
  },
  {
   "cell_type": "code",
   "execution_count": null,
   "metadata": {},
   "outputs": [],
   "source": [
    "(\n",
    "    df_orders_products\n",
    "    .groupBy('customer_id')\n",
    "    .agg(\n",
    "        f.sum('profit').alias('total_profit')\n",
    "    )\n",
    "    .orderBy('total_profit', ascending=False)\n",
    "    .limit(1)\n",
    ").display()"
   ]
  },
  {
   "cell_type": "markdown",
   "metadata": {},
   "source": [
    "2. Who were the top 3 customers with the highest number of orders in 2017?"
   ]
  },
  {
   "cell_type": "code",
   "execution_count": null,
   "metadata": {},
   "outputs": [],
   "source": [
    "(\n",
    "    df_orders_products\n",
    "    .filter(f.col('order_year') == 2017)\n",
    "    .groupBy('customer_id')\n",
    "    .agg(\n",
    "        f.count('order_id').alias('total_orders')\n",
    "    )\n",
    "    .orderBy('total_orders', ascending=False)\n",
    "    .limit(3)\n",
    ").display()"
   ]
  },
  {
   "cell_type": "markdown",
   "metadata": {},
   "source": [
    "3. What is the name of the supplier that has the highest amount of orders delivered with speed 'Fast'?\n",
    "\n",
    "*Note:* The delivery speed can be found on column `delivery_speed`."
   ]
  },
  {
   "cell_type": "code",
   "execution_count": null,
   "metadata": {},
   "outputs": [],
   "source": [
    "(\n",
    "    df_orders_products\n",
    "    .filter(f.col('delivery_speed') == 'Fast')\n",
    "    .groupBy(['supplier_id', 'supplier_name'])\n",
    "    .agg(\n",
    "        f.count('order_id').alias('total_orders')\n",
    "    )\n",
    "    .orderBy('total_orders', ascending=False)\n",
    "    .limit(1)\n",
    ").display()"
   ]
  },
  {
   "cell_type": "markdown",
   "metadata": {},
   "source": [
    "4. For each product line, what is the ratio between average profit and average revenue?"
   ]
  },
  {
   "cell_type": "code",
   "execution_count": null,
   "metadata": {},
   "outputs": [],
   "source": [
    "(\n",
    "    df_orders_products\n",
    "    .groupBy('product_line')\n",
    "    .agg(\n",
    "        f.avg('profit').alias('avg_profit'),\n",
    "        f.avg('revenue').alias('avg_revenue'),\n",
    "    )\n",
    "    .withColumn('ratio', f.col('profit') / f.col('revenue'))\n",
    ").display()"
   ]
  },
  {
   "cell_type": "markdown",
   "metadata": {},
   "source": [
    "5. Consider only suppliers who have delivered products to at least 150 different customers. Which supplier has the greatest variety of products?"
   ]
  },
  {
   "cell_type": "code",
   "execution_count": null,
   "metadata": {},
   "outputs": [],
   "source": [
    "(\n",
    "    df_orders_products\n",
    "    .groupBy(['supplier_id', 'supplier_name'])\n",
    "    .agg(\n",
    "        f.countDistinct(f.col('product_id')).alias('unique_products'),\n",
    "        f.countDistinct('customer_id').alias('nr_unique_customers')\n",
    "    )\n",
    "    .filter(f.col('nr_unique_customers') > 150)\n",
    "    .orderBy(f.desc('unique_products'))\n",
    "    .limit(1)\n",
    ").display()"
   ]
  },
  {
   "cell_type": "markdown",
   "metadata": {},
   "source": [
    "6. Is there a relationship between delivery speed and product line?\n",
    "\n",
    "**Bonus:** Crate a visualization to better explore this relationship."
   ]
  },
  {
   "cell_type": "code",
   "execution_count": null,
   "metadata": {},
   "outputs": [],
   "source": [
    "df_relationship = (\n",
    "    df_orders_products\n",
    "    .groupBy('delivery_speed')\n",
    "    .pivot('product_line')\n",
    "    .agg(\n",
    "        f.count('order_id')\n",
    "    )\n",
    ")"
   ]
  },
  {
   "cell_type": "code",
   "execution_count": null,
   "metadata": {},
   "outputs": [],
   "source": [
    "# Convert the Spark DataFrame to a Pandas DataFrame\n",
    "df_pandas = df_relationship.toPandas()\n",
    "\n",
    "# Set the 'delivery_speed' column as the index\n",
    "df_pandas.set_index('delivery_speed', inplace=True)\n",
    "\n",
    "# Plot the heatmap\n",
    "plt.figure(figsize=(10, 6))  # Adjust the figure size as needed\n",
    "sns.heatmap(df_pandas, annot=True, fmt=\"d\", cmap=\"YlGnBu\", cbar=True)\n",
    "\n",
    "# Customize the plot\n",
    "plt.title('Delivery Speed VS Product Line')\n",
    "plt.ylabel('Delivery Speed')\n",
    "plt.xlabel('Product Line')\n",
    "\n",
    "# Show the heatmap\n",
    "plt.show()"
   ]
  }
 ],
 "metadata": {
  "language_info": {
   "name": "python"
  }
 },
 "nbformat": 4,
 "nbformat_minor": 2
}
